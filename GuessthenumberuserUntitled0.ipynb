{
  "nbformat": 4,
  "nbformat_minor": 0,
  "metadata": {
    "colab": {
      "provenance": [],
      "authorship_tag": "ABX9TyPzXMpPPMCtVZaYMwaYDCZf",
      "include_colab_link": true
    },
    "kernelspec": {
      "name": "python3",
      "display_name": "Python 3"
    },
    "language_info": {
      "name": "python"
    }
  },
  "cells": [
    {
      "cell_type": "markdown",
      "metadata": {
        "id": "view-in-github",
        "colab_type": "text"
      },
      "source": [
        "<a href=\"https://colab.research.google.com/github/asalavender/fccyt/blob/main/GuessthenumberuserUntitled0.ipynb\" target=\"_parent\"><img src=\"https://colab.research.google.com/assets/colab-badge.svg\" alt=\"Open In Colab\"/></a>"
      ]
    },
    {
      "cell_type": "code",
      "execution_count": 7,
      "metadata": {
        "colab": {
          "base_uri": "https://localhost:8080/"
        },
        "id": "2se-NayA_0Uq",
        "outputId": "bedb1911-0ab9-4039-8dcf-4fd3590825fc"
      },
      "outputs": [
        {
          "output_type": "stream",
          "name": "stdout",
          "text": [
            "Guess number between 1 to 10: 8\n",
            "Too big\n",
            "Guess number between 1 to 10: 6\n",
            "Too small\n",
            "Guess number between 1 to 10: 7\n",
            "Correct. 7 is it!\n",
            "Is 2 too high(h), too low(l), or correct(c)?: l\n",
            "Is 5 too high(h), too low(l), or correct(c)?: h\n",
            "Is 3 too high(h), too low(l), or correct(c)?: c\n",
            "Yay computer guessed the number 3 correctly!\n"
          ]
        }
      ],
      "source": [
        "import random\n",
        "\n",
        "#yesterday\n",
        "\n",
        "def guess(x):\n",
        "    random_number = random.randint(1, x)\n",
        "    guess = 123 #抜けていたライン\n",
        "   # print(int(input()) 私のミス\n",
        "    while random_number != guess:\n",
        "      guess = int(input(f\"Guess number between 1 to {x}: \")) #抜けていたライン\n",
        "      if guess > random_number:\n",
        "        print(\"Too big\")\n",
        "      elif guess < random_number:\n",
        "        print(\"Too small\")\n",
        "    print(f\"Correct. {random_number} is it!\")\n",
        "\n",
        "guess(10) #抜けていたライン\n",
        "\n",
        "#today's\n",
        "#明日もう一度復習。\n",
        "\n",
        "def computer_guess(i):\n",
        "    low = 1\n",
        "    high = i\n",
        "    feedback = \"\"\n",
        "    while feedback != \"c\":\n",
        "      if low != high:\n",
        "          guess = random.randint(low, high)\n",
        "      else:\n",
        "        guess = low\n",
        "      feedback = input(f\"Is {guess} too high(h), too low(l), or correct(c)?: \")\n",
        "      if feedback == \"h\":\n",
        "          high = guess - 1\n",
        "      elif feedback == \"l\":\n",
        "          low = guess + 1\n",
        "\n",
        "    print(f\"Yay computer guessed the number {guess} correctly!\") #改行開始位置大事。\n",
        "\n",
        "\n",
        "computer_guess(10)\n",
        "\n",
        "\n"
      ]
    }
  ]
}