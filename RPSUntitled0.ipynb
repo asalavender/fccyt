{
  "nbformat": 4,
  "nbformat_minor": 0,
  "metadata": {
    "colab": {
      "provenance": [],
      "authorship_tag": "ABX9TyPBl3BnGwKAuOiymdfniJaS",
      "include_colab_link": true
    },
    "kernelspec": {
      "name": "python3",
      "display_name": "Python 3"
    },
    "language_info": {
      "name": "python"
    }
  },
  "cells": [
    {
      "cell_type": "markdown",
      "metadata": {
        "id": "view-in-github",
        "colab_type": "text"
      },
      "source": [
        "<a href=\"https://colab.research.google.com/github/asalavender/fccyt/blob/main/RPSUntitled0.ipynb\" target=\"_parent\"><img src=\"https://colab.research.google.com/assets/colab-badge.svg\" alt=\"Open In Colab\"/></a>"
      ]
    },
    {
      "cell_type": "code",
      "execution_count": 6,
      "metadata": {
        "colab": {
          "base_uri": "https://localhost:8080/"
        },
        "id": "kLvbApFYFSxZ",
        "outputId": "856c0f86-7730-4060-b9b6-c0e226def3cc"
      },
      "outputs": [
        {
          "output_type": "stream",
          "name": "stdout",
          "text": [
            "Are you: rock 'r', paper 'p', scissors 's'?s\n",
            "You lost\n"
          ]
        }
      ],
      "source": [
        "import random\n",
        "\n",
        "def play():\n",
        "    user = input(\"Are you: rock 'r', paper 'p', scissors 's'?\")\n",
        "    computer = random.choice(['r', 'p', 's'])\n",
        "\n",
        "    if user == computer:\n",
        "        return \"tie\"\n",
        "\n",
        "    if is_win(user, computer):\n",
        "        return \"You won\"\n",
        "\n",
        "    return \"You lost\"\n",
        "\n",
        "def is_win(player, opponent):\n",
        "  # return true if player wins\n",
        "    if (player == \"r\" and opponent == \"s\") or (player == \"s\" and opponent == \"p\") or (player == \"p\" and opponent == \"r\"):\n",
        "        return True\n",
        "\n",
        "\n",
        "print(play())"
      ]
    }
  ]
}