{
  "nbformat": 4,
  "nbformat_minor": 0,
  "metadata": {
    "colab": {
      "provenance": [],
      "authorship_tag": "ABX9TyPDHYqVF4RRE/j5h9HQbLtJ",
      "include_colab_link": true
    },
    "kernelspec": {
      "name": "python3",
      "display_name": "Python 3"
    },
    "language_info": {
      "name": "python"
    }
  },
  "cells": [
    {
      "cell_type": "markdown",
      "metadata": {
        "id": "view-in-github",
        "colab_type": "text"
      },
      "source": [
        "<a href=\"https://colab.research.google.com/github/asalavender/fccyt/blob/main/MadlibsUntitled0.ipynb\" target=\"_parent\"><img src=\"https://colab.research.google.com/assets/colab-badge.svg\" alt=\"Open In Colab\"/></a>"
      ]
    },
    {
      "cell_type": "code",
      "execution_count": 6,
      "metadata": {
        "colab": {
          "base_uri": "https://localhost:8080/"
        },
        "id": "uGTg4V19MC6B",
        "outputId": "e8422c2c-9530-4ce6-abb9-2f68bed8b65e"
      },
      "outputs": [
        {
          "output_type": "stream",
          "name": "stdout",
          "text": [
            "Subscribe to Asabon\n",
            "Subscribe to Asabon\n",
            "Subscribe to Asabon\n",
            "Adjective: yummy\n",
            "Verb: challange\n",
            "Verb: smash\n",
            "Famous person: professional\n",
            "Computer programming is so yummy! It makes me so excited all the time because I love to challange. Stay hydrated and smash like you are professional!\n"
          ]
        }
      ],
      "source": [
        "youtuber = \"Asabon\"\n",
        "\n",
        "print(\"Subscribe to \" + youtuber)\n",
        "print(\"Subscribe to {}\".format(youtuber))\n",
        "print(f\"Subscribe to {youtuber}\")\n",
        "\n",
        "adj = input(\"Adjective: \")\n",
        "verb1 = input(\"Verb: \")\n",
        "verb2 = input(\"Verb: \")\n",
        "famous_person = input(\"Famous person: \")\n",
        "\n",
        "madlib = f\"Computer programming is so {adj}! It makes me so excited all the time because I love to {verb1}. Stay hydrated and {verb2} like you are {famous_person}!\"\n",
        "\n",
        "print(madlib)"
      ]
    }
  ]
}