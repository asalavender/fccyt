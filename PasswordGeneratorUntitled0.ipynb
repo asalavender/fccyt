{
  "nbformat": 4,
  "nbformat_minor": 0,
  "metadata": {
    "colab": {
      "provenance": [],
      "authorship_tag": "ABX9TyO6+LZosTokWF619/2lFTCu",
      "include_colab_link": true
    },
    "kernelspec": {
      "name": "python3",
      "display_name": "Python 3"
    },
    "language_info": {
      "name": "python"
    }
  },
  "cells": [
    {
      "cell_type": "markdown",
      "metadata": {
        "id": "view-in-github",
        "colab_type": "text"
      },
      "source": [
        "<a href=\"https://colab.research.google.com/github/asalavender/fccyt/blob/main/PasswordGeneratorUntitled0.ipynb\" target=\"_parent\"><img src=\"https://colab.research.google.com/assets/colab-badge.svg\" alt=\"Open In Colab\"/></a>"
      ]
    },
    {
      "cell_type": "code",
      "execution_count": 8,
      "metadata": {
        "colab": {
          "base_uri": "https://localhost:8080/"
        },
        "id": "uYQsyNkEjl8y",
        "outputId": "679b55e5-2ec2-41e5-bbe6-a8621f7a85b0"
      },
      "outputs": [
        {
          "output_type": "stream",
          "name": "stdout",
          "text": [
            "Welcome to today's mantra. Let me know how many mantras you want: 2\n",
            "Then let me know how long mantras you want to: 3\n",
            "Below are today's mantras. Enjoy!\n",
            "kvo\n",
            "oyc\n",
            "Welcome to today's lucky number creator. How many numbers do you want?: 3\n",
            "And how long do you want the number(s) to be?: 2\n",
            "Woohoo, below is your lucky numbers of the day! Enjoy!\n",
            "96\n",
            "56\n",
            "37\n",
            "Welcome to baby name creator. How many characters do you want to have for baby name?: 4\n",
            "Below is your baby name!\n",
            "aynf\n"
          ]
        }
      ],
      "source": [
        "import random\n",
        "\n",
        "number = int(input(\"Welcome to today's mantra. Let me know how many mantras you want: \"))\n",
        "\n",
        "length = int(input(\"Then let me know how long mantras you want to: \"))\n",
        "\n",
        "chars = \"asdfghjklzxcvbnmqwertyuiop\"\n",
        "\n",
        "print(\"Below are today's mantras. Enjoy!\")\n",
        "\n",
        "for mtr in range(number):\n",
        "  mantra = \"\"\n",
        "  for c in range(length):\n",
        "    mantra += random.choice(chars)\n",
        "  print(mantra)\n",
        "\n",
        "\n",
        "\n",
        "\n",
        "\n",
        "\n",
        "import random\n",
        "\n",
        "number = int(input(\"Welcome to today's lucky number creator. How many numbers do you want?: \"))\n",
        "length = int(input(\"And how long do you want the number(s) to be?: \"))\n",
        "chars = \"0123456789\"\n",
        "\n",
        "print(\"Woohoo, below is your lucky numbers of the day! Enjoy!\")\n",
        "\n",
        "for x in range(number):\n",
        "  luckynumber = \"\"\n",
        "  for x in range(length):\n",
        "    luckynumber += random.choice(chars)\n",
        "  print(luckynumber)\n",
        "\n",
        "\n",
        "\n",
        "\n",
        "\n",
        "\n",
        "\n",
        "\n",
        "import random\n",
        "\n",
        "length = int(input(\"Welcome to baby name creator. How many characters do you want to have for baby name?: \"))\n",
        "\n",
        "chars = \"asdfghjklqwertyuiopzxcvbnm\"\n",
        "\n",
        "print(\"Below is your baby name!\")\n",
        "\n",
        "bbname = \"\"\n",
        "\n",
        "for x in range(length):\n",
        "\n",
        "  bbname += random.choice(chars)\n",
        "\n",
        "print(bbname)\n"
      ]
    }
  ]
}