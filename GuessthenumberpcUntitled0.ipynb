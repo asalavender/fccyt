{
  "nbformat": 4,
  "nbformat_minor": 0,
  "metadata": {
    "colab": {
      "provenance": [],
      "authorship_tag": "ABX9TyMGLPb4vanRE5xSAOT7twfr",
      "include_colab_link": true
    },
    "kernelspec": {
      "name": "python3",
      "display_name": "Python 3"
    },
    "language_info": {
      "name": "python"
    }
  },
  "cells": [
    {
      "cell_type": "markdown",
      "metadata": {
        "id": "view-in-github",
        "colab_type": "text"
      },
      "source": [
        "<a href=\"https://colab.research.google.com/github/asalavender/fccyt/blob/main/GuessthenumberpcUntitled0.ipynb\" target=\"_parent\"><img src=\"https://colab.research.google.com/assets/colab-badge.svg\" alt=\"Open In Colab\"/></a>"
      ]
    },
    {
      "cell_type": "code",
      "execution_count": 19,
      "metadata": {
        "colab": {
          "base_uri": "https://localhost:8080/"
        },
        "id": "WjgkHupckjHK",
        "outputId": "c97c22ea-0ad8-4249-bc74-2dd8113ca9b2"
      },
      "outputs": [
        {
          "output_type": "stream",
          "name": "stdout",
          "text": [
            "Guess a number between 1 and 7: 4\n",
            "Sorry, guess again. Too low.\n",
            "Guess a number between 1 and 7: 5\n",
            "Sorry, guess again. Too low.\n",
            "Guess a number between 1 and 7: 6\n",
            "Yay, congrats. You have guessed the number 6 correctly!!\n"
          ]
        }
      ],
      "source": [
        "import random\n",
        "\n",
        "#aiueo\n",
        "\n",
        "def guess(x):\n",
        "    random_number = random.randint(1, x)\n",
        "    guess = 0\n",
        "    while guess != random_number:\n",
        "        guess = int(input(f\"Guess a number between 1 and {x}: \"))\n",
        "        if guess < random_number:\n",
        "            print(\"Sorry, guess again. Too low.\")\n",
        "        elif guess > random_number:\n",
        "            print(\"Sorry, guess again. Too high.\")\n",
        "\n",
        "    print(f\"Yay, congrats. You have guessed the number {random_number} correctly!!\")\n",
        "\n",
        "guess(7)\n"
      ]
    }
  ]
}